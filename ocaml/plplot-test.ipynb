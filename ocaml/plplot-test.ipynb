{
 "cells": [
  {
   "cell_type": "code",
   "execution_count": 1,
   "id": "41bf053e-7041-4f80-9209-656ebab27dd6",
   "metadata": {},
   "outputs": [
    {
     "name": "stderr",
     "output_type": "stream",
     "text": [
      "/Users/faotbgs/.opam/4.12.0/lib/plplot: added to search path\n",
      "/Users/faotbgs/.opam/4.12.0/lib/plplot/plplot.cma: loaded\n"
     ]
    }
   ],
   "source": [
    "#require \"plplot\";;"
   ]
  },
  {
   "cell_type": "code",
   "execution_count": null,
   "id": "fb6ed6b5-c942-4570-8691-143337b44ad0",
   "metadata": {},
   "outputs": [
    {
     "data": {
      "text/plain": [
       "val nsize : int = 101\n"
      ]
     },
     "execution_count": 2,
     "metadata": {},
     "output_type": "execute_result"
    },
    {
     "name": "stderr",
     "output_type": "stream",
     "text": [
      "\n",
      "Bad command line option \"-init\"\n",
      "\n",
      "Usage:\n",
      "        /Users/faotbgs/.opam/4.12.0/bin/ocaml-jupyter-kernel [options]\n",
      "\n",
      "PLplot options:\n",
      "    [-h] [-v] [-verbose] [-debug] [-dev name] [-o name] [-display name]\n",
      "    [-px number] [-py number] [-geometry geom] [-wplt xl,yl,xr,yr]\n",
      "    [-mar margin] [-a aspect] [-jx justx] [-jy justy] [-ori orient]\n",
      "    [-freeaspect] [-portrait] [-width width] [-bg color] [-ncol0 n] [-ncol1 n]\n",
      "    [-fam] [-fsiz size[kKmMgG]] [-fbeg number] [-finc number] [-fflen length]\n",
      "    [-nopixmap] [-db] [-np] [-server_name name] [-dpi dpi] [-compression num]\n",
      "    [-cmap0 file name] [-cmap1 file name] [-locale] [-eofill]\n",
      "    [-drvopt option[=value][,option[=value]]*] [-mfo PLplot metafile name]\n",
      "    [-mfi PLplot metafile name]\n",
      "\n",
      "\n",
      "Type /Users/faotbgs/.opam/4.12.0/bin/ocaml-jupyter-kernel -h for a full description.\n",
      "\n"
     ]
    }
   ],
   "source": [
    "open Plplot\n",
    "\n",
    "let nsize = 101\n",
    "\n",
    "let () =\n",
    "  let xmin = 0.0 in\n",
    "  let xmax = 1.0 in\n",
    "  let ymin = 0.0 in\n",
    "  let ymax = 100.0 in\n",
    "\n",
    "  (* Prepare data to be plotted. *)\n",
    "  let x = Array.init nsize (fun i -> float_of_int i /. ( float_of_int nsize -. 1.0)) in\n",
    "  let y = Array.init nsize (fun i -> ymax *. x.(i) *. x.(i) ) in\n",
    "\n",
    "  (* Parse and process command line arguments *)\n",
    "(*   plparseopts Sys.argv [PL_PARSE_FULL]; *)\n",
    "\n",
    "  (* Initialize plplot *)\n",
    "  plinit ();\n",
    "\n",
    "  (* Create a labelled box to hold the plot. *)\n",
    "  plenv xmin xmax ymin ymax 0 0 ;\n",
    "  pllab \"x\" \"y=100 x#u2#d\" \"Simple PLplot demo of a 2D line plot\" ;\n",
    "\n",
    "  (* Plot the data that was prepared above. *)\n",
    "  plline x y;\n",
    "\n",
    "  (* Close PLplot library *)\n",
    "  plend ();\n",
    "  ()\n"
   ]
  },
  {
   "cell_type": "code",
   "execution_count": null,
   "id": "026c6680-0ed6-4a83-8c60-8e0e9d7f8c10",
   "metadata": {},
   "outputs": [],
   "source": []
  }
 ],
 "metadata": {
  "kernelspec": {
   "display_name": "OCaml 4.12.0",
   "language": "OCaml",
   "name": "ocaml-jupyter"
  },
  "language_info": {
   "codemirror_mode": "text/x-ocaml",
   "file_extension": ".ml",
   "mimetype": "text/x-ocaml",
   "name": "OCaml",
   "nbconverter_exporter": null,
   "pygments_lexer": "OCaml",
   "version": "4.12.0"
  }
 },
 "nbformat": 4,
 "nbformat_minor": 5
}
