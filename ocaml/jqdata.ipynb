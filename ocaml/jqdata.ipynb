{
 "cells": [
  {
   "cell_type": "code",
   "execution_count": null,
   "metadata": {},
   "outputs": [],
   "source": [
    "(* #use \"topfind\";; *)\n",
    "(* #require \"ppx_deriving\";; *)\n",
    "(* #require \"ppx_jane\";; *)\n",
    "#require \"yojson\";;\n",
    "#require \"ppx_yojson_conv\";;\n",
    "(* #require \"core\";; *)\n",
    "#require \"async\";;\n",
    "#require \"cohttp-async\";;\n",
    "#require \"async_ssl\";;\n",
    "#require \"ppx_let\" ;;\n",
    "\n",
    "#require \"owl-top, jupyter.notebook\";;\n",
    "#require \"jupyter-archimedes\";;\n",
    "#require \"owl-jupyter\";;\n",
    "#require \"owl-plplot\";;\n",
    "\n",
    "(* open Owl_jupyter;; *)\n",
    "(* open Owl;; *)\n",
    "\n",
    "(* #thread ;;\n",
    "let () = Thread_safe.block_on_async_exn (fun () -> get_token \"15011272962\" \"u123456A\") *)"
   ]
  }
 ],
 "metadata": {
  "kernelspec": {
   "display_name": "OCaml 4.12.0",
   "language": "OCaml",
   "name": "ocaml-jupyter"
  },
  "language_info": {
   "codemirror_mode": "text/x-ocaml",
   "file_extension": ".ml",
   "mimetype": "text/x-ocaml",
   "name": "OCaml",
   "nbconverter_exporter": null,
   "pygments_lexer": "OCaml",
   "version": "4.12.0"
  }
 },
 "nbformat": 4,
 "nbformat_minor": 4
}
