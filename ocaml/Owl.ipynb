{
 "cells": [
  {
   "cell_type": "code",
   "execution_count": null,
   "metadata": {},
   "outputs": [],
   "source": [
    "(* #use \"topfind\";; *)\n",
    "(* #require \"ppx_deriving\";; *)\n",
    "(* #require \"ppx_jane\";; *)\n",
    "#require \"yojson\";;\n",
    "#require \"ppx_yojson_conv\";;\n",
    "(* #require \"core\";; *)\n",
    "#require \"async\";;\n",
    "#require \"cohttp-async\";;\n",
    "#require \"async_ssl\";;\n",
    "#require \"ppx_let\" ;;\n",
    "\n",
    "#require \"owl-top, jupyter.notebook\";;\n",
    "#require \"jupyter-archimedes\";;\n",
    "#require \"owl-jupyter\";;\n",
    "#require \"owl-plplot\";;\n",
    "\n",
    "(* open Owl_jupyter;; *)\n",
    "(* open Owl;; *)\n",
    "\n",
    "(* #thread ;;\n",
    "let () = Thread_safe.block_on_async_exn (fun () -> get_token \"15011272962\" \"u123456A\") *)"
   ]
  },
  {
   "cell_type": "code",
   "execution_count": null,
   "metadata": {},
   "outputs": [],
   "source": [
    "let open Owl in\n",
    "let open Owl_plplot in\n",
    "let open Owl_jupyter in\n",
    "\n",
    "let y1 = Mat.uniform 1 10 in\n",
    "let y2 = Mat.uniform 10 100 in\n",
    "let h = Plot.create ~m:2 ~n:1 \"plot_008.png\" in\n",
    "Plot.subplot h 0 0;\n",
    "Plot.(bar ~h ~spec:[ RGB (0,153,51); FillPattern 3 ] y1);\n",
    "Plot.subplot h 1 0;\n",
    "Plot.(boxplot ~h ~spec:[ RGB (0,153,51) ] y2);\n",
    "Plot.output h\n",
    ";;"
   ]
  },
  {
   "cell_type": "code",
   "execution_count": null,
   "metadata": {},
   "outputs": [],
   "source": [
    "let open Owl in\n",
    "let open Owl_plplot in\n",
    "let open Owl_jupyter in\n",
    "\n",
    "  let f x = Maths.sin x /. x in\n",
    "  let h = Plot.create \"plot_01.png\" in\n",
    "  Plot.set_title h \"Function: f(x) = sine x / x\";\n",
    "  Plot.set_xlabel h \"x-axis\";\n",
    "  Plot.set_ylabel h \"y-axis\";\n",
    "  Plot.set_font_size h 8.;\n",
    "  Plot.set_pen_size h 3.;\n",
    "  Plot.plot_fun ~h f 1. 15.;\n",
    "  Plot.output h;;"
   ]
  },
  {
   "cell_type": "code",
   "execution_count": 25,
   "metadata": {},
   "outputs": [
    {
     "ename": "error",
     "evalue": "compile_error",
     "output_type": "error",
     "traceback": [
      "File \"[25]\", line 13, characters 0-0:\nError: Syntax error\n"
     ]
    }
   ],
   "source": [
    "let open Owl in\n",
    "let open Owl_plplot in\n",
    "let open Owl_jupyter in\n",
    "\n",
    "(* let h = Plot.create \"plot_024.png\" in\n",
    "Plot.(plot_fun ~h ~spec:[ RGB (0,0,255); Marker \"#[0x2299]\"; MarkerSize 2. ] Maths.sin 0. 9.);\n",
    "Plot.(plot_fun ~h ~spec:[ RGB (255,0,0); Marker \"#[0x0394]\"; MarkerSize 8. ] Maths.cos 0. 9.);\n",
    "Plot.legend_on h [|\"Sine function\"; \"Cosine function\"|];\n",
    "Plot.output h *)\n",
    "\n",
    "let a = Maths.abs (-1.)\n"
   ]
  },
  {
   "cell_type": "code",
   "execution_count": 21,
   "metadata": {},
   "outputs": [
    {
     "data": {
      "text/plain": [
       "val f : float -> float = <fun>\n"
      ]
     },
     "execution_count": 21,
     "metadata": {},
     "output_type": "execute_result"
    }
   ],
   "source": [
    "let f = Owl.Maths.abs"
   ]
  },
  {
   "cell_type": "code",
   "execution_count": null,
   "metadata": {},
   "outputs": [],
   "source": []
  }
 ],
 "metadata": {
  "kernelspec": {
   "display_name": "OCaml 4.12.1",
   "language": "OCaml",
   "name": "ocaml-jupyter"
  },
  "language_info": {
   "codemirror_mode": "text/x-ocaml",
   "file_extension": ".ml",
   "mimetype": "text/x-ocaml",
   "name": "OCaml",
   "nbconverter_exporter": null,
   "pygments_lexer": "OCaml",
   "version": "4.12.1"
  }
 },
 "nbformat": 4,
 "nbformat_minor": 4
}
