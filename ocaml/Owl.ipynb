{
 "cells": [
  {
   "cell_type": "code",
   "execution_count": null,
   "metadata": {},
   "outputs": [],
   "source": [
    "#use \"topfind\";;\n",
    "#require \"owl-top, jupyter.notebook\";;\n",
    "(* #require \"jupyter-archimedes\";; *)\n",
    "(* #require \"owl-jupyter\";; *)\n",
    "(* open Owl_jupyter;; *)\n",
    "open Owl;;"
   ]
  },
  {
   "cell_type": "code",
   "execution_count": 15,
   "metadata": {},
   "outputs": [
    {
     "data": {
      "text/plain": [
       "val str_to_elt_fun : string -> string -> Owl.Dataframe.elt = <fun>\n"
      ]
     },
     "execution_count": 15,
     "metadata": {},
     "output_type": "execute_result"
    },
    {
     "data": {
      "text/plain": [
       "val guess_separator : string array -> char = <fun>\n"
      ]
     },
     "execution_count": 15,
     "metadata": {},
     "output_type": "execute_result"
    },
    {
     "data": {
      "text/plain": [
       "val guess_types : char -> string array -> string array = <fun>\n"
      ]
     },
     "execution_count": 15,
     "metadata": {},
     "output_type": "execute_result"
    },
    {
     "data": {
      "text/plain": [
       "val csv_head : ?sep:char -> 'a -> string array -> string array = <fun>\n"
      ]
     },
     "execution_count": 15,
     "metadata": {},
     "output_type": "execute_result"
    },
    {
     "data": {
      "text/plain": [
       "val of_csv :\n",
       "  ?sep:char ->\n",
       "  ?head:string array -> ?types:string array -> string -> Owl.Dataframe.t =\n",
       "  <fun>\n"
      ]
     },
     "execution_count": 15,
     "metadata": {},
     "output_type": "execute_result"
    }
   ],
   "source": [
    "let str_to_elt_fun = function\n",
    "  | \"b\" -> fun a -> Dataframe.Bool (bool_of_string a)\n",
    "  | \"i\" -> fun a -> Dataframe.Int (int_of_string a)\n",
    "  | \"f\" -> fun a -> if a = \"\" then Dataframe.Float nan else Dataframe.Float (float_of_string a)\n",
    "  | \"s\" -> fun a -> Dataframe.String a\n",
    "  | _   -> failwith \"str_to_elt_fun: unsupported type\"\n",
    "\n",
    "let guess_separator lines =\n",
    "  let sep = [| ','; ' '; '\\t'; ';'; ':'; '|' |] in\n",
    "  (* rank by dividing as many parts as possible *)\n",
    "  let tmp =\n",
    "    Array.map\n",
    "      (fun c ->\n",
    "        let l = String.split_on_char c lines.(0) in\n",
    "        c, List.length l)\n",
    "      sep\n",
    "  in\n",
    "  (* sort by decreasing order *)\n",
    "  Array.sort (fun a b -> snd b - snd a) tmp;\n",
    "  let sep = Array.map fst tmp in\n",
    "  let not_sep = ref true in\n",
    "  let sep_idx = ref 0 in\n",
    "  while !not_sep = true do\n",
    "    let c = sep.(!sep_idx) in\n",
    "    let n = String.split_on_char c lines.(0) |> List.length in\n",
    "    (try\n",
    "       Array.iter\n",
    "         (fun line ->\n",
    "           let m = String.split_on_char c line |> List.length in\n",
    "           if m <> n then raise Owl_exception.FOUND)\n",
    "         lines;\n",
    "       not_sep := false\n",
    "     with\n",
    "    | _exn -> ());\n",
    "    if !not_sep = true then sep_idx := !sep_idx + 1\n",
    "  done;\n",
    "  (* if cannot detect, return comma as default sep *)\n",
    "  if !not_sep = false then sep.(!sep_idx) else ','\n",
    "\n",
    "\n",
    "let guess_types sep lines =\n",
    "  (* Note: no need to add \"s\" since it is default type *)\n",
    "  let typ = [| \"b\"; \"i\"; \"f\" |] in\n",
    "  let num_lines = Array.length lines in\n",
    "  (* at least two lines because the first one will be dropped *)\n",
    "  assert (num_lines > 1);\n",
    "  let num_cols = lines.(0) |> String.trim |> String.split_on_char sep |> List.length in\n",
    "  (* split into separate columns *)\n",
    "  let stacks = Array.init num_cols (fun _ -> Owl_utils_stack.make ()) in\n",
    "  Array.iteri\n",
    "    (fun i line ->\n",
    "      if i > 0\n",
    "      then\n",
    "        String.trim line\n",
    "        |> String.split_on_char sep\n",
    "        |> List.iteri (fun i c -> Owl_utils_stack.push stacks.(i) c))\n",
    "    lines;\n",
    "  let cols = Array.map Owl_utils_stack.to_array stacks in\n",
    "  (* guess the types of columns *)\n",
    "  Array.mapi\n",
    "    (fun _i col ->\n",
    "      let guess_typ = ref \"s\" in\n",
    "      (try\n",
    "         Array.iter\n",
    "           (fun col_typ ->\n",
    "             let typ_fun = str_to_elt_fun col_typ in\n",
    "             let wrong_guess = ref false in\n",
    "             (try\n",
    "                Array.iter\n",
    "                  (fun x ->\n",
    "                    let y = String.trim x in\n",
    "                    typ_fun y |> ignore)\n",
    "                  col\n",
    "              with\n",
    "             | _exn -> wrong_guess := true);\n",
    "             if !wrong_guess = false\n",
    "             then (\n",
    "               guess_typ := col_typ;\n",
    "               raise Owl_exception.FOUND))\n",
    "           typ\n",
    "       with\n",
    "      | _exn -> ());\n",
    "      !guess_typ)\n",
    "    cols\n",
    "\n",
    "let csv_head ?(sep = '\\t') head_i lines =\n",
    "(*     head_i |> ignore;; *)\n",
    "    let line = lines.(0) in\n",
    "    line |> String.trim |> String.split_on_char sep |> Array.of_list;;\n",
    "\n",
    "let of_csv ?sep ?head ?types str =\n",
    "  let lines = Array.of_list @@ String.split_on_char '\\n' str in\n",
    "  let count = Array.length lines in\n",
    "  let sep =\n",
    "    match sep with\n",
    "    | Some a -> a\n",
    "    | None   -> guess_separator lines\n",
    "  in\n",
    "  let head_i = 0 in\n",
    "  let head_names =\n",
    "    match head with\n",
    "    | Some a -> a\n",
    "    | None   -> csv_head ~sep head_i lines\n",
    "  in\n",
    "  let types =\n",
    "    match types with\n",
    "    | Some a -> a\n",
    "    | None   -> guess_types sep lines\n",
    "  in\n",
    "  assert (Array.length head_names = Array.length types);\n",
    "  let convert_f = Array.map str_to_elt_fun types in\n",
    "  let dataframe = Dataframe.make head_names in\n",
    "  let dropped_line = ref 0 in\n",
    "  for i = head_i + 1 to count - 1 do\n",
    "    try\n",
    "        let lines2 = lines.(i) |> Array.make 1 in\n",
    "        let row = Array.map2 (fun f a -> f a) convert_f lines2 in\n",
    "        Dataframe.append_row dataframe row\n",
    "    with\n",
    "      | _exn ->\n",
    "        dropped_line := !dropped_line + 1;\n",
    "        Owl_log.warn \"of_csv: fail to parse line#%i\" i\n",
    "  done;\n",
    "  \n",
    "  if !dropped_line > 0 then Owl_log.warn \"%i lines have been dropped.\" !dropped_line;\n",
    "  dataframe\n",
    "\n",
    "\n",
    "(* let to_csv ?sep x fname =\n",
    "  let m, n = shape x in\n",
    "  (* include heads as the first line *)\n",
    "  let csv = Array.make_matrix (m + 1) n \"\" in\n",
    "  csv.(0) <- get_heads x;\n",
    "  (* dump the data into the table *)\n",
    "  for i = 0 to m - 1 do\n",
    "    for j = 0 to n - 1 do\n",
    "      csv.(i + 1).(j) <- elt_to_str (get x i j)\n",
    "    done\n",
    "  done;\n",
    "  Owl_io.write_csv ?sep csv fname *)"
   ]
  },
  {
   "cell_type": "code",
   "execution_count": 6,
   "metadata": {},
   "outputs": [
    {
     "data": {
      "text/plain": [
       "- : char -> string -> string list = <fun>\n"
      ]
     },
     "execution_count": 6,
     "metadata": {},
     "output_type": "execute_result"
    }
   ],
   "source": [
    "String.split_on_char"
   ]
  },
  {
   "cell_type": "code",
   "execution_count": 17,
   "metadata": {},
   "outputs": [
    {
     "name": "stdout",
     "output_type": "stream",
     "text": [
      "No such package: jqdata\n"
     ]
    }
   ],
   "source": []
  },
  {
   "cell_type": "code",
   "execution_count": null,
   "metadata": {},
   "outputs": [],
   "source": []
  }
 ],
 "metadata": {
  "kernelspec": {
   "display_name": "OCaml 4.12.1",
   "language": "OCaml",
   "name": "ocaml-jupyter"
  },
  "language_info": {
   "codemirror_mode": "text/x-ocaml",
   "file_extension": ".ml",
   "mimetype": "text/x-ocaml",
   "name": "OCaml",
   "nbconverter_exporter": null,
   "pygments_lexer": "OCaml",
   "version": "4.12.1"
  }
 },
 "nbformat": 4,
 "nbformat_minor": 4
}
