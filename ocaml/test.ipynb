{
 "cells": [
  {
   "cell_type": "code",
   "execution_count": null,
   "id": "cb36d39a-718f-4280-aba9-d7f3198d9758",
   "metadata": {},
   "outputs": [],
   "source": [
    "(* #use \"topfind\";; *)\n",
    "(* #require \"ppx_deriving\";; *)\n",
    "(* #require \"ppx_jane\";; *)\n",
    "#require \"graphics\";;\n",
    "#require \"yojson\";;\n",
    "#require \"ppx_yojson_conv\";;\n",
    "(* #require \"core\";; *)\n",
    "#require \"async\";;\n",
    "#require \"cohttp-async\";;\n",
    "#require \"async_ssl\";;\n",
    "#require \"ppx_let\" ;;\n",
    "\n",
    "#require \"owl-top, jupyter.notebook\";;\n",
    "#require \"jupyter-archimedes\";;\n",
    "#require \"owl-jupyter\";;\n",
    "#require \"owl-plplot\";;\n",
    "\n",
    "(* open Owl_jupyter;; *)\n",
    "(* open Owl;; *)\n",
    "\n",
    "(* #thread ;;\n",
    "let () = Thread_safe.block_on_async_exn (fun () -> get_token \"15011272962\" \"u123456A\") *)"
   ]
  },
  {
   "cell_type": "code",
   "execution_count": null,
   "id": "0cec0f7e-8175-4c23-894b-b0a354e6d425",
   "metadata": {},
   "outputs": [],
   "source": [
    "#require \"k98\";;"
   ]
  },
  {
   "cell_type": "code",
   "execution_count": null,
   "id": "21fb1787-a577-41e0-b512-1d1ef27a13bd",
   "metadata": {},
   "outputs": [],
   "source": [
    "let token = K98.JQ.get_token \"15011272962\" \"u123456A\";;\n",
    "(* let info = K98.JQ.get_security_info token \"502050.XSHG\";; *)\n",
    "let df = K98.JQ.get_price token \"600000.XSHG\" 20 \"1d\" \"2021-11-08\";;"
   ]
  },
  {
   "cell_type": "code",
   "execution_count": null,
   "id": "24807448-77d6-4cf7-b9ec-d4f46b9efe2c",
   "metadata": {},
   "outputs": [],
   "source": [
    "let x = Owl.Dataframe.get_col_by_name df \"date\" |> Owl.Dataframe.unpack_string_series"
   ]
  },
  {
   "cell_type": "code",
   "execution_count": 3,
   "id": "47c6b86d-1c1b-47b0-8e3b-515fce8236bb",
   "metadata": {},
   "outputs": [
    {
     "data": {
      "text/plain": [
       "val str : string = \"error: code无效\"\n"
      ]
     },
     "execution_count": 3,
     "metadata": {},
     "output_type": "execute_result"
    },
    {
     "data": {
      "text/plain": [
       "val err : string = \"error:\"\n"
      ]
     },
     "execution_count": 3,
     "metadata": {},
     "output_type": "execute_result"
    }
   ],
   "source": [
    "\n",
    "let str = \"error: code无效\";;\n",
    "let err = String.sub str 0 6;;"
   ]
  },
  {
   "cell_type": "code",
   "execution_count": 5,
   "id": "fcbbad10-a167-493a-a566-763d7fa4318a",
   "metadata": {},
   "outputs": [
    {
     "data": {
      "text/plain": [
       "val float_of_string : string -> float Core.Or_error.t = <fun>\n"
      ]
     },
     "execution_count": 5,
     "metadata": {},
     "output_type": "execute_result"
    }
   ],
   "source": [
    "let float_of_string s =\n",
    "  Core.Or_error.try_with (fun () -> Float.of_string s)\n",
    ";;"
   ]
  },
  {
   "cell_type": "code",
   "execution_count": 7,
   "id": "ff6a5e9f-6487-4f1a-a3f3-762116b00e2b",
   "metadata": {},
   "outputs": [
    {
     "data": {
      "text/plain": [
       "val x : float Core.Or_error.t = Core_kernel__.Result.Error <abstr>\n"
      ]
     },
     "execution_count": 7,
     "metadata": {},
     "output_type": "execute_result"
    }
   ],
   "source": [
    "let x =float_of_string \"abc\""
   ]
  },
  {
   "cell_type": "code",
   "execution_count": 13,
   "id": "35249ad3-e36c-401b-8da5-590ec849002a",
   "metadata": {},
   "outputs": [
    {
     "ename": "error",
     "evalue": "compile_error",
     "output_type": "error",
     "traceback": [
      "File \"[13]\", line 6, characters 19-28:\n6 |   let%bind last  = List.last sorted in\n                       ^^^^^^^^^\nError: Unbound value List.last\n"
     ]
    }
   ],
   "source": [
    "#require \"ppx_let\" ;;\n",
    "let compute_bounds ~compare list =\n",
    "  let open Core.Option.Let_syntax in\n",
    "  let sorted = List.sort compare list in\n",
    "  let%bind first = List.hd sorted in\n",
    "  let%bind last  = List.last sorted in\n",
    "  Some (first,last)\n",
    ";;"
   ]
  },
  {
   "cell_type": "code",
   "execution_count": 18,
   "id": "43b6d947-9c0e-499e-ad03-e70590aa7ea5",
   "metadata": {},
   "outputs": [
    {
     "ename": "error",
     "evalue": "compile_error",
     "output_type": "error",
     "traceback": [
      "File \"[18]\", line 3, characters 20-30:\n3 | let x = Time.now |> Time.epoch\n                        ^^^^^^^^^^\nError: This expression has type Core.Time.t = Core_kernel__Time_float0.t\n       but an expression was expected of type\n         (Core_kernel__.Import.unit -> Core.Time.t) -> 'a\n"
     ]
    }
   ],
   "source": [
    "open Core\n",
    "\n",
    "let x = Time.now |> Time.epoch"
   ]
  },
  {
   "cell_type": "code",
   "execution_count": 2,
   "id": "59b34ba6-eb71-4dce-a22e-6807f88ff249",
   "metadata": {},
   "outputs": [],
   "source": [
    "#require \"http-cookie\";;\n",
    "#install_printer Http_cookie.pp;;"
   ]
  },
  {
   "cell_type": "code",
   "execution_count": 13,
   "id": "af31c289-7fd8-433a-a5d8-ee0b2b2da497",
   "metadata": {},
   "outputs": [
    {
     "data": {
      "text/plain": [
       "- : bool = true\n"
      ]
     },
     "execution_count": 13,
     "metadata": {},
     "output_type": "execute_result"
    }
   ],
   "source": [
    "let s = \"SID=234234asdasdasda\" in\n",
    "  let c = List.nth (Http_cookie.of_cookie s |> Result.get_ok) 0 in \n",
    "  let s1 = Http_cookie.to_cookie c in \n",
    "  s = s1 ;;"
   ]
  },
  {
   "cell_type": "code",
   "execution_count": 8,
   "id": "b64f1a46-2cb4-4ff4-a2dc-d72f2a45bf39",
   "metadata": {},
   "outputs": [
    {
     "data": {
      "text/plain": [
       "val s : string = \"SID=234234asdasdasda\"\n"
      ]
     },
     "execution_count": 8,
     "metadata": {},
     "output_type": "execute_result"
    },
    {
     "data": {
      "text/plain": [
       "val x : Http_cookie.t list =\n",
       "  [name: SID\n",
       "   value: 234234asdasdasda\n",
       "   path: \n",
       "   domain: \n",
       "   expires: \n",
       "   max_age: \n",
       "   secure: false\n",
       "   http_only: false\n",
       "   same_site: \n",
       "   extension: ]\n"
      ]
     },
     "execution_count": 8,
     "metadata": {},
     "output_type": "execute_result"
    }
   ],
   "source": [
    "let s = \"SID=234234asdasdasda\" \n",
    "let x = Http_cookie.of_cookie s |> Result.get_ok"
   ]
  },
  {
   "cell_type": "code",
   "execution_count": 11,
   "id": "84ecc285-cf46-497e-b9e4-d799ef0e6db5",
   "metadata": {},
   "outputs": [
    {
     "data": {
      "text/plain": [
       "- : string =\n",
       "\"SID=31d4d96e407aad42; Path=/; Domain=ffff::0234:ddd:192.168.0.1; Expires=Sun, 06 Nov 1994 08:49:37 GMT; Secure; HttpOnly\"\n"
      ]
     },
     "execution_count": 11,
     "metadata": {},
     "output_type": "execute_result"
    }
   ],
   "source": [
    "let s = \"SID=31d4d96e407aad42; Path=/; Domain=ffff::0234:ddd:192.168.0.1; Expires=Sun, 06 Nov 1994 08:49:37 GMT; Secure; HttpOnly\" in\n",
    "  let c = Http_cookie.of_set_cookie s |> Result.get_ok in\n",
    "  let s2 = Http_cookie.to_set_cookie c in\n",
    "  s2;;"
   ]
  },
  {
   "cell_type": "code",
   "execution_count": 14,
   "id": "e77cd9bd-0640-4a69-bb22-27523f51ff63",
   "metadata": {},
   "outputs": [
    {
     "data": {
      "text/plain": [
       "- : (Http_cookie.t, string) result =\n",
       "Ok\n",
       " name: SID\n",
       " value: 31d4d96e407aad42\n",
       " path: /home\n",
       " domain: eee:aaa:abdf::223:192.168.0.1\n",
       " expires: \n",
       " max_age: \n",
       " secure: true\n",
       " http_only: true\n",
       " same_site: Strict\n",
       " extension: \n"
      ]
     },
     "execution_count": 14,
     "metadata": {},
     "output_type": "execute_result"
    }
   ],
   "source": [
    "Http_cookie.create ~path:\"/home\" ~domain:\"eee:aaa:abdf::223:192.168.0.1\" \n",
    "~secure:true ~same_site:`Strict ~name:\"SID\" \"31d4d96e407aad42\";;\n"
   ]
  },
  {
   "cell_type": "code",
   "execution_count": null,
   "id": "8c99de38-0c07-4f48-bf04-9bb755f882df",
   "metadata": {},
   "outputs": [],
   "source": []
  }
 ],
 "metadata": {
  "kernelspec": {
   "display_name": "OCaml 4.12.0",
   "language": "OCaml",
   "name": "ocaml-jupyter"
  },
  "language_info": {
   "codemirror_mode": "text/x-ocaml",
   "file_extension": ".ml",
   "mimetype": "text/x-ocaml",
   "name": "OCaml",
   "nbconverter_exporter": null,
   "pygments_lexer": "OCaml",
   "version": "4.12.0"
  }
 },
 "nbformat": 4,
 "nbformat_minor": 5
}
