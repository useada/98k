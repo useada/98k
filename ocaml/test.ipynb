{
 "cells": [
  {
   "cell_type": "code",
   "execution_count": 5,
   "id": "cb36d39a-718f-4280-aba9-d7f3198d9758",
   "metadata": {},
   "outputs": [
    {
     "name": "stdout",
     "output_type": "stream",
     "text": [
      "No such package: graphics\n"
     ]
    }
   ],
   "source": [
    "(* #use \"topfind\";; *)\n",
    "(* #require \"ppx_deriving\";; *)\n",
    "(* #require \"ppx_jane\";; *)\n",
    "#require \"graphics\";;\n",
    "#require \"yojson\";;\n",
    "#require \"ppx_yojson_conv\";;\n",
    "(* #require \"core\";; *)\n",
    "#require \"async\";;\n",
    "#require \"cohttp-async\";;\n",
    "#require \"async_ssl\";;\n",
    "#require \"ppx_let\" ;;\n",
    "\n",
    "#require \"owl-top, jupyter.notebook\";;\n",
    "#require \"jupyter-archimedes\";;\n",
    "#require \"owl-jupyter\";;\n",
    "#require \"owl-plplot\";;\n",
    "\n",
    "(* open Owl_jupyter;; *)\n",
    "(* open Owl;; *)\n",
    "\n",
    "(* #thread ;;\n",
    "let () = Thread_safe.block_on_async_exn (fun () -> get_token \"15011272962\" \"u123456A\") *)"
   ]
  },
  {
   "cell_type": "code",
   "execution_count": 10,
   "id": "0cec0f7e-8175-4c23-894b-b0a354e6d425",
   "metadata": {},
   "outputs": [],
   "source": [
    "#require \"k98\";;"
   ]
  },
  {
   "cell_type": "code",
   "execution_count": 13,
   "id": "21fb1787-a577-41e0-b512-1d1ef27a13bd",
   "metadata": {},
   "outputs": [
    {
     "data": {
      "text/plain": [
       "val token : string = \"5b6a9ba2b7f07fb129667f2f04cb01bdcff2b331\"\n"
      ]
     },
     "execution_count": 13,
     "metadata": {},
     "output_type": "execute_result"
    },
    {
     "data": {
      "text/plain": [
       "val df : Owl.Dataframe.t =\n",
       "  \n",
       "   +----------+----+-----+----+----+---+------+----------+---------+----+---------\n",
       "          date open close high  low     paused high_limit low_limit  avg pre_close \n",
       "   +----------+----+-----+----+----+---+------+----------+---------+----+---------\n",
       " R0 2021-10-12 9.12  9.14 9.19 9.09 ...      0      10.07      8.24 9.14      9.15 \n",
       " R1 2021-10-13 9.14  9.07 9.15 9.05 ...      0      10.05      8.23 9.09      9.14 \n",
       " R2 2021-10-14 9.07  9.04 9.09 9.02 ...      0       9.98      8.16 9.05      9.07 \n",
       " R3 2021-10-15 9.05  9.07 9.11 9.02 ...      0       9.94      8.14 9.07      9.04 \n",
       " R4 2021-10-18 9.06  9.02  9.1 8.98 ...      0       9.98      8.16 9.02      9.07 \n",
       " R5 2021-10-19 9.03  9.01 9.07 9.01 ...      0       9.92      8.12 9.03      9.02 \n",
       " R6 2021-10-20 9.03  9.02 9.06 8.99 ...      0       9.91      8.11 9.02      9.01 \n",
       " R7 2021-10-21 9.05  9.04 9.09 9.01 ...      0       9.92      8.12 9.05      9.02 \n",
       " R8 2021-10-22 9.07  9.07 9.13 9.02 ...      0       9.94      8.14 9.06      9.04 \n",
       " R9 2021-10-25 9.03  9.03 9.06 9.02 ...      0       9.98      8.16 9.04      9.07 \n",
       "R10 2021-10-26 9.06  9.03 9.09 9.01 ...      0       9.93      8.13 9.04      9.03 \n",
       "R11 2021-10-27 9.01  8.99 9.02 8.96 ...      0       9.93      8.13 8.99      9.03 \n",
       "R12 2021-10-28 8.99  8.96 9.01 8.95 ...      0       9.89      8.09 8.97      8.99 \n",
       "R13 2021-10-29 8.96  8.94   9. 8.93 ...      0       9.86      8.06 8.96      8.96 \n",
       "R14 2021-11-01 8.69  8.72 8.78  8.6 ...      0       9.83      8.05 8.69      8.94 \n",
       "R15 2021-11-02 8.71  8.54 8.75  8.5 ...      0       9.59      7.85  8.6      8.72 \n",
       "R16 2021-11-03 8.59  8.53 8.59 8.51 ...      0       9.39      7.69 8.54      8.54 \n",
       "R17 2021-11-04 8.53  8.51 8.54  8.5 ...      0       9.38      7.68 8.52      8.53 \n",
       "R18 2021-11-05 8.51  8.53 8.54 8.49 ...      0       9.36      7.66 8.52      8.51 \n",
       "R19 2021-11-08 8.48  8.49 8.53 8.46 ...      0       9.38      7.68  8.5      8.53 \n",
       "\n"
      ]
     },
     "execution_count": 13,
     "metadata": {},
     "output_type": "execute_result"
    }
   ],
   "source": [
    "let token = K98.JQ.get_token \"15011272962\" \"u123456A\";;\n",
    "(* let info = K98.JQ.get_security_info token \"502050.XSHG\";; *)\n",
    "let df = K98.JQ.get_price token \"600000.XSHG\" 20 \"1d\" \"2021-11-08\";;"
   ]
  },
  {
   "cell_type": "code",
   "execution_count": 17,
   "id": "24807448-77d6-4cf7-b9ec-d4f46b9efe2c",
   "metadata": {},
   "outputs": [
    {
     "data": {
      "text/plain": [
       "val x : string array =\n",
       "  [|\"2021-10-12\"; \"2021-10-13\"; \"2021-10-14\"; \"2021-10-15\"; \"2021-10-18\";\n",
       "    \"2021-10-19\"; \"2021-10-20\"; \"2021-10-21\"; \"2021-10-22\"; \"2021-10-25\";\n",
       "    \"2021-10-26\"; \"2021-10-27\"; \"2021-10-28\"; \"2021-10-29\"; \"2021-11-01\";\n",
       "    \"2021-11-02\"; \"2021-11-03\"; \"2021-11-04\"; \"2021-11-05\"; \"2021-11-08\"|]\n"
      ]
     },
     "execution_count": 17,
     "metadata": {},
     "output_type": "execute_result"
    }
   ],
   "source": [
    "let x = Owl.Dataframe.get_col_by_name df \"date\" |> Owl.Dataframe.unpack_string_series"
   ]
  },
  {
   "cell_type": "code",
   "execution_count": 2,
   "id": "3fc9b906-6d28-4f50-8ec1-12a57c70e4f0",
   "metadata": {},
   "outputs": [
    {
     "ename": "error",
     "evalue": "compile_error",
     "output_type": "error",
     "traceback": [
      "File \"[2]\", line 1, characters 9-12:\n1 | let open Owl in\n             ^^^\nError: Unbound module Owl\n"
     ]
    }
   ],
   "source": [
    "let open Owl in\n",
    "let open Owl_plot in\n",
    "\n",
    "let g x = (Stats.gaussian_pdf x ~mu:0. ~sigma:1.) *. 100. in\n",
    "let y = Mat.gaussian ~mu:0. ~sigma:1. 1 1000 in\n",
    "\n",
    "(* plot multiple data sets *)\n",
    "let h = Plot.create \"plot_025.png\" in\n",
    "Plot.set_background_color h 255 255 255;\n",
    "Plot.(histogram ~h ~spec:[ RGB (255,0,50) ] ~bin:100 y);\n",
    "Plot.(plot_fun ~h ~spec:[ RGB (0,0,255); LineWidth 2. ] g (-4.) 4.);\n",
    "Plot.legend_on h [|\"data\"; \"model\"|];\n",
    "\n",
    "Plot.output h\n",
    ";;"
   ]
  },
  {
   "cell_type": "code",
   "execution_count": 7,
   "id": "267862a3-9682-43b9-82d0-af3e69388940",
   "metadata": {},
   "outputs": [
    {
     "name": "stdout",
     "output_type": "stream",
     "text": [
      "Findlib has been successfully loaded. Additional directives:\n",
      "  #require \"package\";;      to load a package\n",
      "  #list;;                   to list the available packages\n",
      "  #camlp4o;;                to load camlp4 (standard syntax)\n",
      "  #camlp4r;;                to load camlp4 (revised syntax)\n",
      "  #predicates \"p,q,...\";;   to set these predicates\n",
      "  Topfind.reset();;         to force that packages will be reloaded\n",
      "  #thread;;                 to enable threads\n",
      "\n",
      "No such package: graphics\n"
     ]
    }
   ],
   "source": [
    "#use \"topfind\";;\n",
    "#require \"graphics\";;"
   ]
  },
  {
   "cell_type": "code",
   "execution_count": null,
   "id": "cb05910d-84fc-4116-9d5b-a8fa1276d870",
   "metadata": {},
   "outputs": [],
   "source": []
  }
 ],
 "metadata": {
  "kernelspec": {
   "display_name": "OCaml 4.12.0",
   "language": "OCaml",
   "name": "ocaml-jupyter"
  },
  "language_info": {
   "codemirror_mode": "text/x-ocaml",
   "file_extension": ".ml",
   "mimetype": "text/x-ocaml",
   "name": "OCaml",
   "nbconverter_exporter": null,
   "pygments_lexer": "OCaml",
   "version": "4.12.0"
  }
 },
 "nbformat": 4,
 "nbformat_minor": 5
}
