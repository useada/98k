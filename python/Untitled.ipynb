{
 "cells": [
  {
   "cell_type": "code",
   "execution_count": null,
   "metadata": {},
   "outputs": [],
   "source": [
    "# coding=utf-8\n",
    "\n",
    "import requests,json\n",
    "\n",
    "url=\"http://dataapi.joinquant.com/apis\"\n",
    "\n",
    "#获取调用凭证\n",
    "body={       \n",
    "    \"method\": \"get_token\",\n",
    "    \"mob\": \"15011272962\",  #mob是申请JQData时所填写的手机号\n",
    "    \"pwd\": \"u123456A\",  #Password为聚宽官网登录密码，新申请用户默认为手机号后6位\n",
    "}\n",
    "\n",
    "response = requests.post(url, data = json.dumps(body))\n",
    "token=response.text\n",
    "\n",
    "print(token)\n",
    "\n",
    "#调用get_security_info获取单个标的信息\n",
    "# body={\n",
    "#     \"method\": \"get_security_info\",\n",
    "#     \"token\": token,\n",
    "#     \"code\": \"502050.XSHG\",\n",
    "# }\n",
    "\n",
    "# response = requests.post(url, data = json.dumps(body))\n",
    "# print(response.text)"
   ]
  },
  {
   "cell_type": "code",
   "execution_count": null,
   "metadata": {},
   "outputs": [],
   "source": []
  }
 ],
 "metadata": {
  "kernelspec": {
   "display_name": "hulu4",
   "language": "python",
   "name": "hulu4"
  },
  "language_info": {
   "codemirror_mode": {
    "name": "ipython",
    "version": 3
   },
   "file_extension": ".py",
   "mimetype": "text/x-python",
   "name": "python",
   "nbconvert_exporter": "python",
   "pygments_lexer": "ipython3",
   "version": "3.6.13"
  }
 },
 "nbformat": 4,
 "nbformat_minor": 4
}
